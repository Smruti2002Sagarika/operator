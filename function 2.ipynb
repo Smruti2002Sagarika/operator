{
 "cells": [
  {
   "cell_type": "markdown",
   "id": "f1ca444b-e937-42a7-bafd-a14318ca81c2",
   "metadata": {},
   "source": [
    "function argument"
   ]
  },
  {
   "cell_type": "code",
   "execution_count": 2,
   "id": "c3f0154b-013f-4e4d-8c84-99eca9e287ad",
   "metadata": {},
   "outputs": [],
   "source": [
    "def multiple(a,b):\n",
    "    return a*b"
   ]
  },
  {
   "cell_type": "code",
   "execution_count": 3,
   "id": "82e535fb-6dc5-48bb-ab5a-fa20cba7cd28",
   "metadata": {},
   "outputs": [
    {
     "data": {
      "text/plain": [
       "6"
      ]
     },
     "execution_count": 3,
     "metadata": {},
     "output_type": "execute_result"
    }
   ],
   "source": [
    "multiple(2,3)"
   ]
  },
  {
   "cell_type": "code",
   "execution_count": 10,
   "id": "435935e9-497e-40d0-a232-d668e4cb4b7f",
   "metadata": {},
   "outputs": [],
   "source": [
    "def multiple2(a,b):\n",
    "    mul=a*b\n",
    "    print(\"the multiplication of {} & {} is {}\".format(a,b,mul))"
   ]
  },
  {
   "cell_type": "code",
   "execution_count": 11,
   "id": "10de65be-47e0-4ccb-b90c-aaa77ffbe67a",
   "metadata": {},
   "outputs": [
    {
     "name": "stdout",
     "output_type": "stream",
     "text": [
      "the multiplication of 4 & 2 is 8\n"
     ]
    }
   ],
   "source": [
    "multiple2(4,2)"
   ]
  },
  {
   "cell_type": "code",
   "execution_count": 12,
   "id": "dfb27b41-ff77-4fb1-83e0-2aa5c4edd173",
   "metadata": {},
   "outputs": [],
   "source": [
    "def multiple2(a,b):\n",
    "    a=int(input(\"enterte value\"))\n",
    "    b=int(input(\"enter the value\"))\n",
    "    mul=a*b\n",
    "    print(\"the multiplication of {} & {} is {}\".format(a,b,mul))"
   ]
  },
  {
   "cell_type": "code",
   "execution_count": 13,
   "id": "49194768-9a71-4b61-9cf3-0ab4d84203d0",
   "metadata": {},
   "outputs": [
    {
     "ename": "TypeError",
     "evalue": "multiple2() missing 2 required positional arguments: 'a' and 'b'",
     "output_type": "error",
     "traceback": [
      "\u001b[1;31m---------------------------------------------------------------------------\u001b[0m",
      "\u001b[1;31mTypeError\u001b[0m                                 Traceback (most recent call last)",
      "Cell \u001b[1;32mIn[13], line 1\u001b[0m\n\u001b[1;32m----> 1\u001b[0m multiple2()\n",
      "\u001b[1;31mTypeError\u001b[0m: multiple2() missing 2 required positional arguments: 'a' and 'b'"
     ]
    }
   ],
   "source": [
    " multiple2()"
   ]
  },
  {
   "cell_type": "code",
   "execution_count": 14,
   "id": "c24cf137-e27a-48d7-901e-f661b45895a9",
   "metadata": {},
   "outputs": [
    {
     "name": "stdin",
     "output_type": "stream",
     "text": [
      "enterte value 6\n",
      "enter the value 2\n"
     ]
    },
    {
     "name": "stdout",
     "output_type": "stream",
     "text": [
      "the multiplication of 6 & 2 is 12\n"
     ]
    }
   ],
   "source": [
    "multiple2(2,3)"
   ]
  },
  {
   "cell_type": "code",
   "execution_count": 15,
   "id": "f103834a-1454-4d37-9be1-4b2d5feb1c18",
   "metadata": {},
   "outputs": [],
   "source": [
    "def multiple2():\n",
    "    a=int(input(\"enterte value\"))\n",
    "    b=int(input(\"enter the value\"))\n",
    "    mul=a*b\n",
    "    print(\"the multiplication of {} & {} is {}\".format(a,b,mul))"
   ]
  },
  {
   "cell_type": "code",
   "execution_count": 16,
   "id": "2aaf6283-c582-4ced-bdd6-638c0cbf38e7",
   "metadata": {},
   "outputs": [
    {
     "name": "stdin",
     "output_type": "stream",
     "text": [
      "enterte value 2\n",
      "enter the value 3\n"
     ]
    },
    {
     "name": "stdout",
     "output_type": "stream",
     "text": [
      "the multiplication of 2 & 3 is 6\n"
     ]
    }
   ],
   "source": [
    " multiple2()"
   ]
  },
  {
   "cell_type": "code",
   "execution_count": 17,
   "id": "ea5017ef-9759-4d39-bc06-af472f346162",
   "metadata": {},
   "outputs": [],
   "source": [
    "def multiple2(c,a=2,b=3):\n",
    "    mul=(a*b)+c\n",
    "    print(\"the multiplication of {} & {} is {}\".format(a,b,mul))"
   ]
  },
  {
   "cell_type": "code",
   "execution_count": 18,
   "id": "7434c7f1-a41b-4a78-9c1b-d63bc06563c9",
   "metadata": {},
   "outputs": [
    {
     "name": "stdout",
     "output_type": "stream",
     "text": [
      "the multiplication of 2 & 3 is 10\n"
     ]
    }
   ],
   "source": [
    " multiple2(4,2)"
   ]
  },
  {
   "cell_type": "code",
   "execution_count": 20,
   "id": "80ac21f8-95d9-4a73-911e-8326b8504999",
   "metadata": {},
   "outputs": [
    {
     "name": "stdout",
     "output_type": "stream",
     "text": [
      "hello smruti , have a nice day\n"
     ]
    }
   ],
   "source": [
    "def greet(**kwargs):\n",
    "    if kwargs:\n",
    "        print(\"hello {} , {}\".format(kwargs['name'],kwargs['msg']))\n",
    "greet(name=\"smruti\",msg=\"have a nice day\")"
   ]
  },
  {
   "cell_type": "code",
   "execution_count": null,
   "id": "046e78ec-1623-4d1c-96a1-b6ca2f895c11",
   "metadata": {},
   "outputs": [],
   "source": [
    " def greet(*names):\n",
    "     print(names)\n",
    "     for name in names:\n",
    "         print(\"satis\",\"murali\")"
   ]
  },
  {
   "cell_type": "code",
   "execution_count": 29,
   "id": "24ea409d-e41e-4731-8d93-e9600fee0307",
   "metadata": {},
   "outputs": [
    {
     "name": "stdout",
     "output_type": "stream",
     "text": [
      "select an operation\n",
      " 1.submation 2.substraction,      3.multiplication,      4.division \n"
     ]
    },
    {
     "name": "stdin",
     "output_type": "stream",
     "text": [
      "choose your opration option 1\n",
      "enter your 1st no. 5\n",
      "enter your 2nd no. 6\n"
     ]
    },
    {
     "ename": "IndexError",
     "evalue": "Replacement index 2 out of range for positional args tuple",
     "output_type": "error",
     "traceback": [
      "\u001b[1;31m---------------------------------------------------------------------------\u001b[0m",
      "\u001b[1;31mIndexError\u001b[0m                                Traceback (most recent call last)",
      "Cell \u001b[1;32mIn[29], line 15\u001b[0m\n\u001b[0;32m     13\u001b[0m b\u001b[38;5;241m=\u001b[39m\u001b[38;5;28mint\u001b[39m(\u001b[38;5;28minput\u001b[39m(\u001b[38;5;124m\"\u001b[39m\u001b[38;5;124menter your 2nd no.\u001b[39m\u001b[38;5;124m\"\u001b[39m))\n\u001b[0;32m     14\u001b[0m \u001b[38;5;28;01mif\u001b[39;00m num \u001b[38;5;241m==\u001b[39m \u001b[38;5;241m1\u001b[39m:\n\u001b[1;32m---> 15\u001b[0m     \u001b[38;5;28mprint\u001b[39m(\u001b[38;5;124m\"\u001b[39m\u001b[38;5;124mthe addition of \u001b[39m\u001b[38;5;132;01m{}\u001b[39;00m\u001b[38;5;124m & \u001b[39m\u001b[38;5;132;01m{}\u001b[39;00m\u001b[38;5;124m is \u001b[39m\u001b[38;5;132;01m{}\u001b[39;00m\u001b[38;5;124m \u001b[39m\u001b[38;5;124m\"\u001b[39m\u001b[38;5;241m.\u001b[39mformat(a,b)\u001b[38;5;241m.\u001b[39madd(a,b))\n\u001b[0;32m     16\u001b[0m \u001b[38;5;28;01melif\u001b[39;00m num \u001b[38;5;241m==\u001b[39m \u001b[38;5;241m2\u001b[39m:\n\u001b[0;32m     17\u001b[0m     \u001b[38;5;28mprint\u001b[39m(\u001b[38;5;124m\"\u001b[39m\u001b[38;5;124mthe substraction of \u001b[39m\u001b[38;5;132;01m{}\u001b[39;00m\u001b[38;5;124m & \u001b[39m\u001b[38;5;132;01m{}\u001b[39;00m\u001b[38;5;124m is \u001b[39m\u001b[38;5;132;01m{}\u001b[39;00m\u001b[38;5;124m\"\u001b[39m\u001b[38;5;241m.\u001b[39mformat(a,b)\u001b[38;5;241m.\u001b[39msubstraction(a,b))\n",
      "\u001b[1;31mIndexError\u001b[0m: Replacement index 2 out of range for positional args tuple"
     ]
    }
   ],
   "source": [
    "def add(a,b):\n",
    "    return a+b\n",
    "def substraction(a,b):\n",
    "    return a-b\n",
    "def multi(a,b):\n",
    "    return a*b\n",
    "def division(a,b):\n",
    "    return a/b\n",
    "print(\"select an operation\")\n",
    "print(\" 1.submation 2.substraction,      3.multiplication,      4.division \")\n",
    "num=int(input(\"choose your opration option\"))\n",
    "a=int(input(\"enter your 1st no.\"))\n",
    "b=int(input(\"enter your 2nd no.\"))\n",
    "if num == 1:\n",
    "    print(\"the addition of {} & {} is {} \".format(a,b),add(a,b))\n",
    "elif num == 2:\n",
    "    print(\"the substraction of {} & {} is {}\".format(a,b),substraction(a,b))\n",
    "elif num == 3:\n",
    "    print(\"the multiplication of {} & {} is {}\".format(a,b),multi(a,b))\n",
    "elif num == 4:\n",
    "    print(\"the division of {} & {} is {}\".format(a,b),division(a,b))\n",
    "else:\n",
    "    print(\"invalid operator\")\n",
    "    \n"
   ]
  },
  {
   "cell_type": "code",
   "execution_count": 1,
   "id": "322a41f3-1439-4383-9670-6adfab286639",
   "metadata": {},
   "outputs": [],
   "source": [
    "def even_odd():\n",
    "    a=int(input(\"enter a number\"))\n",
    "    if a % 2 == 0:\n",
    "        print(\"the no. is even\")\n",
    "    else:\n",
    "        print(\"the no. is odd\")\n",
    "    "
   ]
  },
  {
   "cell_type": "code",
   "execution_count": 2,
   "id": "2a03c43f-bbca-4e93-99ce-5554da5eade0",
   "metadata": {},
   "outputs": [],
   "source": [
    "def even_odd():\n",
    "    a=int(input(\"enter a number\"))\n",
    "    if a % 2 == 0:\n",
    "        print(\"the no. is even\")\n",
    "    else:\n",
    "        print(\"the no. is odd\")\n",
    "    "
   ]
  },
  {
   "cell_type": "code",
   "execution_count": null,
   "id": "b7192757-467c-441d-9f31-364f7e202e77",
   "metadata": {},
   "outputs": [],
   "source": []
  }
 ],
 "metadata": {
  "kernelspec": {
   "display_name": "Python 3 (ipykernel)",
   "language": "python",
   "name": "python3"
  },
  "language_info": {
   "codemirror_mode": {
    "name": "ipython",
    "version": 3
   },
   "file_extension": ".py",
   "mimetype": "text/x-python",
   "name": "python",
   "nbconvert_exporter": "python",
   "pygments_lexer": "ipython3",
   "version": "3.11.7"
  }
 },
 "nbformat": 4,
 "nbformat_minor": 5
}
